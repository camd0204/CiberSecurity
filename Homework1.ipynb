{
 "cells": [
  {
   "cell_type": "code",
   "execution_count": 6,
   "metadata": {},
   "outputs": [
    {
     "name": "stdout",
     "output_type": "stream",
     "text": [
      "picoCTF{next_time_I'll_try_2_rounds_of_rot13_wqWOSBKW}\n"
     ]
    }
   ],
   "source": [
    "##Mod26\n",
    "def decipher_rot13(text):\n",
    "    decrypted_text = \"\"\n",
    "    for char in text:\n",
    "        if 'a' <= char <= 'z':\n",
    "            shift = ord(char) - ord('a')\n",
    "            decrypted_char = chr(((shift - 13) % 26) + ord('a'))\n",
    "        elif 'A' <= char <= 'Z':\n",
    "            shift = ord(char) - ord('A')\n",
    "            decrypted_char = chr(((shift - 13) % 26) + ord('A'))\n",
    "        else:\n",
    "            decrypted_char = char\n",
    "        decrypted_text += decrypted_char\n",
    "    return decrypted_text\n",
    "\n",
    "# Example usage:\n",
    "encrypted_text = \"cvpbPGS{arkg_gvzr_V'yy_gel_2_ebhaqf_bs_ebg13_jdJBFOXJ}\"\n",
    "decrypted_text = decipher_rot13(encrypted_text)\n",
    "print(decrypted_text)\n"
   ]
  },
  {
   "cell_type": "code",
   "execution_count": 12,
   "metadata": {},
   "outputs": [
    {
     "name": "stdout",
     "output_type": "stream",
     "text": [
      "44046402572626160612103472728795008085361523578694645928734845681441465000289\n"
     ]
    }
   ],
   "source": [
    "## Easy Peasy Done from console, using webshell from picoctf and inserting a string that is 50000 large\n",
    "##Then we obtain the broken flag after inputing the 500000\n",
    "##After that we do XOR with encripted flag, broken flag and\n",
    "ef=0x0345376e1e5406691d5c076c4050046e4000036a1a005c6b1904531d3941055d\n",
    "ea=0x0346303d1902033d1959003d1903553d1951553d1907593d1951511a3d190505\n",
    "aa=0x6161616161616161616161616161616161616161616161616161616161616161\n",
    "flag='{:x}'.format(ef^ea^aa)\n",
    "print(aa)"
   ]
  },
  {
   "cell_type": "code",
   "execution_count": 3,
   "metadata": {},
   "outputs": [
    {
     "name": "stdout",
     "output_type": "stream",
     "text": [
      "Deciphered result: picoctfthenumbersmason\n"
     ]
    }
   ],
   "source": [
    "##The numbers\n",
    "def decipher_numbers(numbers):\n",
    "    alphabet = \"abcdefghijklmnopqrstuvwxyz\"\n",
    "    deciphered_list = []\n",
    "    for number in numbers:\n",
    "        if 1 <= number <= 26:\n",
    "            letter = alphabet[number - 1]\n",
    "            deciphered_list.append(letter)\n",
    "        else:\n",
    "            deciphered_list.append(str(number))\n",
    "    return deciphered_list\n",
    "\n",
    "# Example usage:\n",
    "numbers_to_decipher = [16,9,3,15,3,20,6,20,8,5,14,21,13,2,5,18,19,13,1,19,15,14]\n",
    "deciphered_result = decipher_numbers(numbers_to_decipher)\n",
    "print(\"Deciphered result:\", \"\".join(deciphered_result))\n",
    "\n"
   ]
  },
  {
   "cell_type": "code",
   "execution_count": 4,
   "metadata": {},
   "outputs": [
    {
     "name": "stdout",
     "output_type": "stream",
     "text": [
      "a qQqRY[YSVUT[UYWWWYUYTS\n",
      "b §§¨bcjljdgfelfjhhhjfjed\n",
      "c ©¸¸¹st{}{ªuxw©v¨¥}¨¨w©{yyy¨{w{v©©u¦¦©\n",
      "d ºÉ¤ÉÊ¤»º¹¶¹¹º¹ºº··º\n",
      "e ËÚµÚÛµÌËÊÇÊÊËÊËËÈÈË\n",
      "f ÜëÆëì¦Æ§® ®Ý¨«ªÜ©ÛØ ÛÛªÜ®¬¬¬Û®ª®©ÜÜ¨ÙÙÜ\n",
      "g íü×üý·×¸¿±¿î¹¼»íºìé±ìì»í¿½½½ì¿»¿ºíí¹êêí\n",
      "\u000eÈèÉÀÂÀÿÊÍÌþËýúÂýýÌþÀÎÎÎýÀÌÀËþþÊûûþ\n",
      "i \u000f\u001eù\u001e\u001fÙùÚÑÓÑ\u0000ÛÞÝ\u000fÜ\u000e\u000bÓ\u000e\u000eÝ\u000fÑßßß\u000eÑÝÑÜ\u000f\u000fÛ\f\f\u000f\n",
      "j \u0010/\n",
      "/ ê\n",
      "ëâäâ\u0011ìïî\u0010í\u001f\u001cä\u001f\u001fî\u0010âààà\u001fâîâí\u0010\u0010ì\u001d\u001d\u0010\n",
      "k !0\u001b01û\u001büóõó\"ýðÿ!þ -õ  ÿ!óñññ óÿóþ!!ý..!\n",
      "\u0004\u0006\u00043\u000e\u0001\u00002\u000f1>\u000611\u00002\u0004\u0002\u0002\u00021\u0004\u0000\u0004\u000f22\u000e??2\n",
      "m CR=RS\u001d=\u001e\u0015\u0017\u0015D\u001f\u0012\u0011C\u0010BO\u0017BB\u0011C\u0015\u0013\u0013\u0013B\u0015\u0011\u0015\u0010CC\u001f@@C\n",
      "n TcNcd.N/&(&U #\"T!SP(SS\"T&$$$S&\"&!TT QQT\n",
      "o et_tu?_0797f143e2da9dd3e7555d7372ee1bbe\n",
      "p v`@`AHJHwBEDvCurJuuDvHFFFuHDHCvvBssv\n"
     ]
    }
   ],
   "source": [
    "###New Caesar\n",
    "#Key is O given the fact that it makes a cohesive text\n",
    "import string\n",
    "\n",
    "LOWERCASE_OFFSET = ord(\"a\")\n",
    "ALPHABET = string.ascii_lowercase[:16]\n",
    "\n",
    "def b16_encode(plain):\n",
    "\tenc = \"\"\n",
    "\tfor c in plain:\n",
    "\t\tbinary = \"{0:08b}\".format(ord(c))\n",
    "\t\tenc += ALPHABET[int(binary[:4], 2)]\n",
    "\t\tenc += ALPHABET[int(binary[4:], 2)]\n",
    "\treturn enc\n",
    "#Se crea una funcion de decode que hace fuerza bruta\n",
    "def b16_decode(ciphered):\n",
    "    decoded = \"\"  # \n",
    "    for i in range(0, len(ciphered), 2):\n",
    "        # Para cada par de caracteres en la cadena de entrada:\n",
    "        # - Obtiene sus índices en el ALFABETO (suponiendo que ALFABETO es una constante o lista predefinida).\n",
    "        index1 = ALPHABET.index(ciphered[i])\n",
    "        index2 = ALPHABET.index(ciphered[i + 1])\n",
    "        \n",
    "        # Convierte estos índices a representaciones binarias de 4 bits cada una.\n",
    "        binario1 = \"{0:04b}\".format(index1)\n",
    "        binario2 = \"{0:04b}\".format(index2)\n",
    "        \n",
    "        # Concatena las dos cadenas binarias de 4 bits para formar una cadena binaria de 8 bits.\n",
    "        binario = binario1 + binario2\n",
    "        \n",
    "        # Convierte la cadena binaria de 8 bits a un entero y luego a un carácter.\n",
    "        caracter_decodificado = chr(int(binario, 2))\n",
    "        \n",
    "        # Agrega el carácter decodificado al resultado.\n",
    "        decoded += caracter_decodificado\n",
    "    \n",
    "    return decoded\n",
    "\n",
    "\n",
    "def shift(c, k):\n",
    "\tt1 = ord(c) - LOWERCASE_OFFSET\n",
    "\tt2 = ord(k) - LOWERCASE_OFFSET\n",
    "\treturn ALPHABET[(t1 + t2) % len(ALPHABET)]\n",
    "\n",
    "flag = \"ihjghbjgjhfbhbfcfjflfjiifdfgffihfeigidfligigffihfjfhfhfhigfjfffjfeihihfdieieih\"\n",
    "\n",
    "for key in ALPHABET:\n",
    "\tdec=\"\"\n",
    "\tfor c in flag:\n",
    "\t\tdec+=shift(c,key)\n",
    "\tb16=b16_decode(dec)\n",
    "\tprint(key,b16)"
   ]
  },
  {
   "cell_type": "code",
   "execution_count": 7,
   "metadata": {},
   "outputs": [
    {
     "name": "stdout",
     "output_type": "stream",
     "text": [
      "picoCTF{not_too_bad_of_a_problem}\n"
     ]
    }
   ],
   "source": [
    "##13\n",
    "encrypted_text = \"cvpbPGS{abg_gbb_onq_bs_n_ceboyrz}\"\n",
    "decrypted_text = decipher_rot13(encrypted_text)\n",
    "print(decrypted_text)"
   ]
  },
  {
   "cell_type": "code",
   "execution_count": 9,
   "metadata": {},
   "outputs": [
    {
     "name": "stdout",
     "output_type": "stream",
     "text": [
      "picoCTF{gvswwmrkxlivyfmgsrhnrisegl} shifteado: 0\n",
      "ohbnBSE{furvvlqjwkhuxelfrqgmqhrdfk} shifteado: 1\n",
      "ngamARD{etquukpivjgtwdkeqpflpgqcej} shifteado: 2\n",
      "mfzlZQC{dspttjohuifsvcjdpoekofpbdi} shifteado: 3\n",
      "leykYPB{crossingtherubicondjneoach} shifteado: 4\n",
      "kdxjXOA{bqnrrhmfsgdqtahbnmcimdnzbg} shifteado: 5\n",
      "jcwiWNZ{apmqqglerfcpszgamlbhlcmyaf} shifteado: 6\n",
      "ibvhVMY{zolppfkdqeboryfzlkagkblxze} shifteado: 7\n",
      "haugULX{ynkooejcpdanqxeykjzfjakwyd} shifteado: 8\n",
      "gztfTKW{xmjnndiboczmpwdxjiyeizjvxc} shifteado: 9\n",
      "fyseSJV{wlimmchanbylovcwihxdhyiuwb} shifteado: 10\n",
      "exrdRIU{vkhllbgzmaxknubvhgwcgxhtva} shifteado: 11\n",
      "dwqcQHT{ujgkkafylzwjmtaugfvbfwgsuz} shifteado: 12\n",
      "cvpbPGS{tifjjzexkyvilsztfeuaevfrty} shifteado: 13\n",
      "buoaOFR{sheiiydwjxuhkrysedtzdueqsx} shifteado: 14\n",
      "atnzNEQ{rgdhhxcviwtgjqxrdcsyctdprw} shifteado: 15\n",
      "zsmyMDP{qfcggwbuhvsfipwqcbrxbscoqv} shifteado: 16\n",
      "yrlxLCO{pebffvatgurehovpbaqwarbnpu} shifteado: 17\n",
      "xqkwKBN{odaeeuzsftqdgnuoazpvzqamot} shifteado: 18\n",
      "wpjvJAM{nczddtyrespcfmtnzyouypzlns} shifteado: 19\n",
      "voiuIZL{mbyccsxqdrobelsmyxntxoykmr} shifteado: 20\n",
      "unhtHYK{laxbbrwpcqnadkrlxwmswnxjlq} shifteado: 21\n",
      "tmgsGXJ{kzwaaqvobpmzcjqkwvlrvmwikp} shifteado: 22\n",
      "slfrFWI{jyvzzpunaolybipjvukqulvhjo} shifteado: 23\n",
      "rkeqEVH{ixuyyotmznkxahoiutjptkugin} shifteado: 24\n",
      "qjdpDUG{hwtxxnslymjwzgnhtsiosjtfhm} shifteado: 25\n"
     ]
    }
   ],
   "source": [
    "###caesar, according to the shifts we search for the most cohesive text\n",
    "def decode_caesar(ciphertext, shift):\n",
    "    decrypted_text = \"\"\n",
    "    for char in ciphertext:\n",
    "        if 'A' <= char <= 'Z':\n",
    "            decrypted_char = chr(((ord(char) - ord('A') - shift) % 26) + ord('A'))\n",
    "        elif 'a' <= char <= 'z':\n",
    "            decrypted_char = chr(((ord(char) - ord('a') - shift) % 26) + ord('a'))\n",
    "        else:\n",
    "            decrypted_char = char\n",
    "        decrypted_text += decrypted_char\n",
    "    return decrypted_text\n",
    "for i in range(26):\n",
    "    shift = i\n",
    "    decoded_string = decode_caesar(\"picoCTF{gvswwmrkxlivyfmgsrhnrisegl}\",shift)\n",
    "    print(decoded_string + \" shifteado: \" + str(shift))\n"
   ]
  },
  {
   "cell_type": "code",
   "execution_count": null,
   "metadata": {},
   "outputs": [],
   "source": [
    "###Easy1 done using a website that decodes the vignere cipher with the following link https://www.cs.du.edu/~snarayan/crypt/vigenere.html"
   ]
  },
  {
   "cell_type": "code",
   "execution_count": null,
   "metadata": {},
   "outputs": [],
   "source": [
    "from collections import Counter\n",
    "from string import ascii_lowercase\n",
    "file_path='public/study-guide.txt'\n",
    "with open(file_path, 'r') as f:\n",
    "    ciphertext = f.read()\n",
    "charcount = Counter(c for c in ciphertext if c in ascii_lowercase)\n",
    "total_chars = sum(charcount.values())\n",
    "for char, count in charcount.items():\n",
    "    print(f\"{char}: {(count*100)/total_chars}% ({count})\")\n",
    "\n",
    "###Finally we use a tool that does frequency analysis that determines r=e and therefore we obtain the ciphered text"
   ]
  }
 ],
 "metadata": {
  "kernelspec": {
   "display_name": "Python 3",
   "language": "python",
   "name": "python3"
  },
  "language_info": {
   "codemirror_mode": {
    "name": "ipython",
    "version": 3
   },
   "file_extension": ".py",
   "mimetype": "text/x-python",
   "name": "python",
   "nbconvert_exporter": "python",
   "pygments_lexer": "ipython3",
   "version": "3.9.13"
  },
  "orig_nbformat": 4
 },
 "nbformat": 4,
 "nbformat_minor": 2
}
