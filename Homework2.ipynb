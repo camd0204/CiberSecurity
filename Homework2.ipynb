{
 "cells": [
  {
   "cell_type": "markdown",
   "metadata": {},
   "source": [
    "## Computer Security\n",
    "### Homework 2\n",
    "\n",
    "## Exercise 1:"
   ]
  },
  {
   "cell_type": "markdown",
   "metadata": {},
   "source": [
    "1. Suppose a password is chosen as a concatenation of seven lower-case dictionary words. Each word is selected uniformly at random from a dictionary of size 50,000. An example of such a password is \"mothercathousefivenextcrossroom\". How many bits of entropy does this have?\n"
   ]
  },
  {
   "cell_type": "markdown",
   "metadata": {},
   "source": [
    "In this case, we know that each word that can be chosen from the dictionary can be a combination, after having 7 words the total possible combinations of the password is 50000^7, which is dict_size^word_size. In order to obtain the entropy we calculate the log from the total possible combinations."
   ]
  },
  {
   "cell_type": "code",
   "execution_count": 2,
   "metadata": {},
   "outputs": [
    {
     "name": "stdout",
     "output_type": "stream",
     "text": [
      "The entropy of the password is 109.26748332105768\n"
     ]
    }
   ],
   "source": [
    "import math\n",
    "possible_combinations=50000\n",
    "possible_combinations_7=50000**7\n",
    "entropy_7=math.log(possible_combinations_7,2)\n",
    "print(\"The entropy of the password is\",entropy_7)"
   ]
  },
  {
   "cell_type": "markdown",
   "metadata": {},
   "source": [
    "2. Consider an alternative scheme where a password is chosen as a sequence of 10 random alphanumeric characters (including both lower-case and upper-case letters). An example is \"dA3mG67Rrs\". How many bits of entropy does this have?"
   ]
  },
  {
   "cell_type": "markdown",
   "metadata": {},
   "source": [
    "To calculate the entropy, we have to obtain the number of combinations (alphabet) which is 26 lowercase characters, 26 uppercase characters and 10 digits. After that, we calculate the total number of combinations by raising the number of combinations by the length of the password which is 10. Finally we calculate the entropy by obtaining the log of the total combinations."
   ]
  },
  {
   "cell_type": "code",
   "execution_count": 3,
   "metadata": {},
   "outputs": [
    {
     "name": "stdout",
     "output_type": "stream",
     "text": [
      "The entropy of the password is 59.54196310386876\n"
     ]
    }
   ],
   "source": [
    "n_lower_case=26\n",
    "n_higher_case=26\n",
    "n_digits=10\n",
    "sum=n_lower_case+n_higher_case+n_digits\n",
    "long=10\n",
    "entropy=math.log(sum**long,2)\n",
    "print(\"The entropy of the password is\",entropy)"
   ]
  },
  {
   "cell_type": "markdown",
   "metadata": {},
   "source": [
    "3. Which password is better, the one from 1. or 2.?"
   ]
  },
  {
   "cell_type": "markdown",
   "metadata": {},
   "source": [
    "Clearly the password with higher entropy is better, as entropy is a measure of randomness or unpredictability, which is something that is needed when creating a password. Therefore the password 1 that has higher entropy is better."
   ]
  },
  {
   "cell_type": "markdown",
   "metadata": {},
   "source": [
    "## Exercise 2:"
   ]
  },
  {
   "cell_type": "markdown",
   "metadata": {},
   "source": [
    "1. Design a data verification system using hash functions. Explain the steps involved in the process."
   ]
  },
  {
   "cell_type": "markdown",
   "metadata": {},
   "source": [
    "In order to create a data verification system using a hash function, we have to do the following steps:\n",
    "\n",
    "1. We have to choose a hash function that is highly secure in order to have successful verifications. In this case python has many secure hash functions provided by the hashlib library. In this case we use sha256, which is a highly secure hash function, having a 256 bit output size.\n",
    "\n",
    "2. We generate a new hash value through the hash function for every part of the date that needs to be verified, obtaining a hash code that has a fixed size. \n",
    "\n",
    "3. In a real world scenario the hash codes should be sent along with the data in order to do a comparison later.\n",
    "\n",
    "4. In order to verify the data, we must perform a recalculation of the hash code of the received data through the original hash function. If the recalculated hash code matches the original hash code that was sent with the data, the data hasn't been modified, otherwise the data has failed the integrity check."
   ]
  },
  {
   "cell_type": "code",
   "execution_count": 4,
   "metadata": {},
   "outputs": [
    {
     "name": "stdout",
     "output_type": "stream",
     "text": [
      "The data was not modified\n"
     ]
    }
   ],
   "source": [
    "import hashlib\n",
    "\n",
    "def generate_hash(data):\n",
    "    hash_object = hashlib.sha256(data.encode('utf-8'))\n",
    "    hex_dig = hash_object.hexdigest()\n",
    "    return hex_dig\n",
    "\n",
    "data_to_be_sent=\"Hey my SSID is 1231425334, my name is Carlos Montiel\"\n",
    "hash_code_sent=generate_hash(data_to_be_sent)    \n",
    "\n",
    "data_received=\"Hey my SSID is 1231425334, my name is Carlos Montiel\"\n",
    "recalculated_hash_code=generate_hash(data_received)\n",
    "\n",
    "def compare_hash(hash_code_sent,recalculated_hash_code):\n",
    "    if hash_code_sent==recalculated_hash_code:\n",
    "        print(\"The data was not modified\")\n",
    "    else:\n",
    "        print(\"The data was modified\")\n",
    "compare_hash(hash_code_sent,recalculated_hash_code)"
   ]
  },
  {
   "cell_type": "markdown",
   "metadata": {},
   "source": [
    "![Sketch for Data Verification System](SystemSketch1.png \"Sketch for Data Verification System\")"
   ]
  },
  {
   "cell_type": "markdown",
   "metadata": {},
   "source": [
    "2. Discuss the advantages and disadvantages of using hash functions for data verification."
   ]
  },
  {
   "cell_type": "markdown",
   "metadata": {},
   "source": [
    "Pros: Hashing functions ensure data integrity, when comparing and storing hash values, it becomes a straightforward method that detects data corruption. Any minor change in data ends up being detected due to producing a different hash value. Hashing is done for password protection and data validation, being quickly and efficiently done. It is also computationally efficient to use hash functions than other methods. Searching and duplite checks is highly efficient when using hash based operations than other alternative methods.\n",
    "\n",
    "Cons: As Hash functions are one- way functions, it is computationally impossible to retrieve the original data from the hash value, in case the hashed data is lost it cannot be recovered. Another con of hash functions is given when hash collisions ocurr, colliding data compromises data integrity. In case of trying to do an exhaustive searches or scenarios requiring range searches or partial matching, hashing is not suitable. Another important con of hash funtions is the lack of encrypting nature found in encrypting algorithms, not being able to provide data confidentiality."
   ]
  },
  {
   "cell_type": "markdown",
   "metadata": {},
   "source": [
    "3. Provide an example of a real-world application where a data verification system using hash functions is used."
   ]
  },
  {
   "cell_type": "markdown",
   "metadata": {},
   "source": [
    "Hash functions, such as SHA-256, play a critical role in securing files stored on cloud services. When uploading files, their hashes are computed and stored locally. During downloads, the hash is recomputed, and any variance from the stored hash indicates potential tampering. This method efficiently ensures file integrity by making it nearly impossible to tamper with files without altering their hash values."
   ]
  },
  {
   "cell_type": "markdown",
   "metadata": {},
   "source": [
    "## Exercise 3"
   ]
  },
  {
   "cell_type": "markdown",
   "metadata": {},
   "source": [
    "1. Define what a Message Authentication Code (MAC) is and how it is used in cryptography.\n"
   ]
  },
  {
   "cell_type": "markdown",
   "metadata": {},
   "source": [
    "A MAC (Message Authentication Code) is a short piece of information used for authenticating and checking integrity in a message in criptography. The MAC is attached to the message by the sender in order for it to be verified by the receiver, verifying identity and integrity of the message.\n",
    "\n",
    "MAC is used in symmetric cryptography. The following steps are ensued in the use of MAC:\n",
    "1. Establishment of a secure channel between hosts.\n",
    "2. Message encryption is done using an algorithm using a symmetric key to encrypt the plain text sent by the message.\n",
    "3. The algorithm then generates authentication tags of a fixed length by processing the message and producing as an output the messages MAC.\n",
    "4. The MAC is appended to the message and transmitted as a whole package to the receiver.\n",
    "5. Using the same algorithm, the receiver computes the MAC. If the resulting MAC is equals to the one sent by the sender, the message is verified, authentic, legitimate and untampered."
   ]
  },
  {
   "cell_type": "markdown",
   "metadata": {},
   "source": [
    "2. Explain the process of generating and verifying a MAC."
   ]
  },
  {
   "cell_type": "markdown",
   "metadata": {},
   "source": [
    "The process of generating and verifying a MAC involves agreeing on a shared secret key between the sender and receiver through a secure key exchange mechanism. Once the key is established, the sender uses a MAC algorithm, such as HMAC with a chosen hash function like SHA-256, to process the message and generate an authentication tag of a fixed length. This authentication tag, which serves as a cryptographic checksum, is then appended to the message and sent to the receiver over a potentially insecure channel. Upon receiving the tagged message, the receiver extracts the authentication tag and the original message. \n",
    "Using the shared secret key and the agreed-upon MAC algorithm, the receiver computes a new authentication tag for the received message. The critical step involves comparing the computed authentication tag with the one sent by the sender. If the tags match, the message is verified as authentic, indicating that it has not been tampered with during transmission, and the sender is considered authentic. In cases where the tags do not match, the receiver may choose to reject the message or take appropriate action based on the security protocol in place. While MACs provide integrity and authenticity, additional encryption measures should be considered for confidentialit. The entire security of this process hinges on the secure exchange of the secret key and the robustness of the chosen MAC algorithm."
   ]
  },
  {
   "cell_type": "markdown",
   "metadata": {},
   "source": [
    "3. Discuss the importance of using MACs in secure communication systems."
   ]
  },
  {
   "cell_type": "markdown",
   "metadata": {},
   "source": [
    "In the realm of secure communication, Message Authentication Codes (MACs) act as essential safeguards for messages. Picture them as digital security measures ensuring that when you send a message, it reaches its destination without any unauthorized changes. Each message is assigned a unique tag or code, similar to a secret identifier. This code allows the recipient to check the message's integrity, much like sealing an envelope to protect its contents. MACs also serve to confirm the legitimacy of the sender. Only the authorized individual possessing a specific key can generate the correct tag, functioning as a secure password of sorts. This helps prevent the occurrence of fraudulent messages pretending to be from someone else. MACs further contribute to non-repudiation, offering cryptographic proof of the message's origin and preventing the sender from disavowing their involvement. Through the use of special codes and timestamps, MACs also deter replay attacks, where someone attempts to resend the same message. In simpler terms, MACs function as digital safeguards, ensuring that messages are secure, authentic, and genuinely from the intended sender."
   ]
  },
  {
   "cell_type": "markdown",
   "metadata": {},
   "source": [
    "## Exercise 4"
   ]
  },
  {
   "cell_type": "markdown",
   "metadata": {},
   "source": [
    "Given the values of p = 17 and q = 23, generate a pair of keys for RSA."
   ]
  },
  {
   "cell_type": "code",
   "execution_count": 12,
   "metadata": {},
   "outputs": [
    {
     "name": "stdout",
     "output_type": "stream",
     "text": [
      "The gcd is 1\n",
      "The verification result is: 1\n",
      "The public key is (e=3, n=391)\n",
      "The private key is (d=235, n=391)\n"
     ]
    }
   ],
   "source": [
    "p=17\n",
    "q=23\n",
    "n=p*q\n",
    "phi=(p-1)*(q-1)\n",
    "e=3\n",
    "gcd=math.gcd(e,phi)\n",
    "print(\"The gcd is\",gcd)\n",
    "\n",
    "def modinv(a, m):\n",
    "    # Extended Euclidean Algorithm to find modular inverse\n",
    "    m0, x0, x1 = m, 0, 1\n",
    "\n",
    "    while a > 1:\n",
    "        q = a // m\n",
    "        m, a = a % m, m\n",
    "        x0, x1 = x1 - q * x0, x0\n",
    "\n",
    "    return x1 + m0 if x1 < 0 else x1\n",
    "d=modinv(e,phi)\n",
    "\n",
    "\n",
    "# Verify the calculation of d\n",
    "verification = (e * d) % phi\n",
    "\n",
    "print(f\"The verification result is: {verification}\")\n",
    "print(f\"The public key is (e={e}, n={n})\")\n",
    "print(f\"The private key is (d={d}, n={n})\")\n",
    "\n"
   ]
  },
  {
   "cell_type": "markdown",
   "metadata": {},
   "source": [
    "## Exercise 5"
   ]
  },
  {
   "cell_type": "markdown",
   "metadata": {},
   "source": [
    "1.Design a public key infrastructure (PKI) system. Explain the components and their roles in the system."
   ]
  },
  {
   "cell_type": "markdown",
   "metadata": {},
   "source": [
    "![Sketch for PKI System](PKISketch.png \"Sketch for PKI System\")"
   ]
  },
  {
   "cell_type": "markdown",
   "metadata": {},
   "source": [
    "![Chart for PKI System](PKISketch2.png \"Chart for PKI System\")"
   ]
  },
  {
   "cell_type": "markdown",
   "metadata": {},
   "source": [
    "2. Discuss the advantages and challenges of implementing a PKI system.\n"
   ]
  },
  {
   "cell_type": "markdown",
   "metadata": {},
   "source": [
    "Pros:\n",
    "PKI is a robust mechanism used for authentication, using digital certificates, the mechanism assures users that they are communicating with the intended person. PKI guarantees  data integrity by using digital signatures in order to detect tampering, digital signatures also ensure thtat data remains unchanged during transmission. By encrypting data with the public key, PKI enables secure communication, allowing only the recipient to decrypt and acces the information. PKI provides non-repudiation, therfore a sendar is not allowed to deny sending a message. When using PKI in insecure networks, PKI makes a secure line , safeguarding data. Finally, PKI can be used along with access control systems to control access to resources based on the user's possession of valid digital credentials.\n",
    "\n",
    "Challenges:\n",
    "You have to securely manage the keys, the generation, distribution, storage and disposal of keys, in case the keys are compromised, unauthorized access and security breaches may occur. Another challenge is based on the management of the lifecycle of the digital certificates, when being compromised, the service can be disrupted. Scaling the PKI system and interoperability ensurance is another challenge, when implementing a PKI system, lack of interoperability and scalability may lead to performance and compatibility issues. Finally, a challenge arises when managing the revocation of compromised certificates and the distribution of CRLs, in case of having a delayed revocation process, unauthorized users may use the system.\n"
   ]
  },
  {
   "cell_type": "markdown",
   "metadata": {},
   "source": [
    "3. Provide an example of a real-world application where a PKI system is used."
   ]
  },
  {
   "cell_type": "markdown",
   "metadata": {},
   "source": [
    "PKI is commonly used in securing email communication through the implementation of Secure/Multipurpose Internet Mail Extensions protocols. S/MIME is a standard for securing email messages, which relies on PKI to provide authentication, integrity, confidentiality for email communication.  PKI ensures the confidentiality of emails by facilitating encryption with the recipient's public key, safeguarding the content during transmission. By using PKI, it addresses the challenge of authenticating the sender through the use of digital certificates, allowing recipients to verify the legitimacy of the email source. This authentication aspect contributes to user trust, as individuals can rely on visual indicators, such as digital signatures, to confirm the security of their email communication. PKI assists in mitigating security concerns related to untrusted networks, ensuring that even if emails traverse potentially insecure channels, the content remains confidential and protected. Additionally, PKI aids in regulatory compliance, particularly in industries like healthcare or finance, where secure communication is mandated by standards such as HIPAA"
   ]
  },
  {
   "cell_type": "markdown",
   "metadata": {},
   "source": [
    "## Exercise 6"
   ]
  },
  {
   "cell_type": "markdown",
   "metadata": {},
   "source": [
    "Design a system for digital signatures based on public-key cryptography. Explain the steps involved in the process and the role of each component."
   ]
  },
  {
   "cell_type": "markdown",
   "metadata": {},
   "source": [
    "A digital signature system based on public-key cryptography consists of key generation, digital signature generation, and digital signature verification components.\n",
    "\n",
    " The key generation component is responsible for generating pairs of public and private keys. The public key is openly shared, while the private key is kept confidential. This process ensures that the private key remains secure and only the intended owner has access to it.\n",
    "\n",
    "The digital signature generation component takes a message and the sender's private key to produce a digital signature. It involves creating a fixed-size hash value (digest) of the message using a hashing algorithm. The sender then encrypts this hash value with their private key, resulting in the digital signature. The digital signature is attached to the original message, forming a secure package that can be transmitted.\n",
    "\n",
    "The transmission phase involves sending the original message along with the attached digital signature to the receiver. This can occur through various communication channels, such as email or secure messaging protocols.\n",
    "\n",
    "On the receiver's side, the digital signature verification component is employed to ensure the authenticity of the received message. The receiver uses the same hashing algorithm to generate a hash value (digest) from the received message. Subsequently, the receiver decrypts the digital signature using the sender's public key, obtaining a decrypted hash value. If the decrypted hash value matches the hash value generated from the received message, the digital signature is considered valid, confirming the authenticity and integrity of the message.\n",
    "\n",
    "Several security considerations are vital to the effectiveness of the system. The secrecy of the private key is paramount, as any compromise could lead to unauthorized digital signature generation. Additionally, the strength of the hash function is crucial to resisting collision attacks and maintaining the integrity of the digital signature. In some implementations, a Public Key Infrastructure (PKI) may be employed to manage the distribution and verification of public keys, adding an extra layer of trust to the system. "
   ]
  },
  {
   "cell_type": "markdown",
   "metadata": {},
   "source": [
    "![Chart for Digital Signature](DigitalSignatureSystem.png \"Chart for Digital Signature\")"
   ]
  },
  {
   "cell_type": "markdown",
   "metadata": {},
   "source": [
    "![Chart for Digital Signature](DigitalSignatureSystem2.png \"Chart for Digital Signature\")"
   ]
  }
 ],
 "metadata": {
  "kernelspec": {
   "display_name": "Python 3",
   "language": "python",
   "name": "python3"
  },
  "language_info": {
   "codemirror_mode": {
    "name": "ipython",
    "version": 3
   },
   "file_extension": ".py",
   "mimetype": "text/x-python",
   "name": "python",
   "nbconvert_exporter": "python",
   "pygments_lexer": "ipython3",
   "version": "3.9.13"
  }
 },
 "nbformat": 4,
 "nbformat_minor": 2
}
